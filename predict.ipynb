{
 "cells": [
  {
   "cell_type": "code",
   "execution_count": 1,
   "metadata": {},
   "outputs": [
    {
     "name": "stderr",
     "output_type": "stream",
     "text": [
      "Using TensorFlow backend.\n"
     ]
    }
   ],
   "source": [
    "import os\n",
    "import os\n",
    "import matplotlib.pyplot as plt\n",
    "import numpy as np\n",
    "import pandas as pd\n",
    "from keras.models import load_model\n",
    "from keras.applications.inception_v3 import preprocess_input\n",
    "from keras.preprocessing import image\n",
    "\n",
    "%reload_ext autoreload\n",
    "%autoreload 2\n",
    "%matplotlib inline"
   ]
  },
  {
   "cell_type": "code",
   "execution_count": 2,
   "metadata": {},
   "outputs": [
    {
     "data": {
      "text/html": [
       "<div>\n",
       "<style scoped>\n",
       "    .dataframe tbody tr th:only-of-type {\n",
       "        vertical-align: middle;\n",
       "    }\n",
       "\n",
       "    .dataframe tbody tr th {\n",
       "        vertical-align: top;\n",
       "    }\n",
       "\n",
       "    .dataframe thead th {\n",
       "        text-align: right;\n",
       "    }\n",
       "</style>\n",
       "<table border=\"1\" class=\"dataframe\">\n",
       "  <thead>\n",
       "    <tr style=\"text-align: right;\">\n",
       "      <th></th>\n",
       "      <th>image_id</th>\n",
       "      <th>class</th>\n",
       "    </tr>\n",
       "  </thead>\n",
       "  <tbody>\n",
       "    <tr>\n",
       "      <th>15036</th>\n",
       "      <td>Images/pant_length_labels/94a39606899208494011...</td>\n",
       "      <td>pant_length_labels</td>\n",
       "    </tr>\n",
       "    <tr>\n",
       "      <th>15037</th>\n",
       "      <td>Images/pant_length_labels/ea762115f6e0958b06b3...</td>\n",
       "      <td>pant_length_labels</td>\n",
       "    </tr>\n",
       "    <tr>\n",
       "      <th>15038</th>\n",
       "      <td>Images/pant_length_labels/819b1e3a4f5ee3cf8ada...</td>\n",
       "      <td>pant_length_labels</td>\n",
       "    </tr>\n",
       "    <tr>\n",
       "      <th>15039</th>\n",
       "      <td>Images/pant_length_labels/e9983ff66c99f996efe2...</td>\n",
       "      <td>pant_length_labels</td>\n",
       "    </tr>\n",
       "    <tr>\n",
       "      <th>15040</th>\n",
       "      <td>Images/pant_length_labels/4d1714c55b2ff5c2db55...</td>\n",
       "      <td>pant_length_labels</td>\n",
       "    </tr>\n",
       "  </tbody>\n",
       "</table>\n",
       "</div>"
      ],
      "text/plain": [
       "                                                image_id               class\n",
       "15036  Images/pant_length_labels/94a39606899208494011...  pant_length_labels\n",
       "15037  Images/pant_length_labels/ea762115f6e0958b06b3...  pant_length_labels\n",
       "15038  Images/pant_length_labels/819b1e3a4f5ee3cf8ada...  pant_length_labels\n",
       "15039  Images/pant_length_labels/e9983ff66c99f996efe2...  pant_length_labels\n",
       "15040  Images/pant_length_labels/4d1714c55b2ff5c2db55...  pant_length_labels"
      ]
     },
     "execution_count": 2,
     "metadata": {},
     "output_type": "execute_result"
    }
   ],
   "source": [
    "df_test = pd.read_csv(\"data/z_rank/Tests/question.csv\")\n",
    "df_test.columns = ['image_id', 'class', 'x']\n",
    "del df_test['x']\n",
    "df_test.tail()"
   ]
  },
  {
   "cell_type": "code",
   "execution_count": 3,
   "metadata": {},
   "outputs": [],
   "source": [
    "classes = ['collar_design_labels', 'neckline_design_labels', 'skirt_length_labels', \n",
    "           'sleeve_length_labels', 'neck_design_labels', 'coat_length_labels', 'lapel_design_labels', \n",
    "           'pant_length_labels']"
   ]
  },
  {
   "cell_type": "code",
   "execution_count": 4,
   "metadata": {},
   "outputs": [],
   "source": [
    "task = classes[7]"
   ]
  },
  {
   "cell_type": "code",
   "execution_count": 5,
   "metadata": {},
   "outputs": [
    {
     "name": "stdout",
     "output_type": "stream",
     "text": [
      "pant_length_labels: 1434\n"
     ]
    }
   ],
   "source": [
    "df_load = df_test[(df_test['class'] == task)].copy()\n",
    "df_load.reset_index(inplace=True)\n",
    "del df_load['index']\n",
    "print('{0}: {1}'.format(task, len(df_load)))"
   ]
  },
  {
   "cell_type": "code",
   "execution_count": 6,
   "metadata": {},
   "outputs": [
    {
     "name": "stdout",
     "output_type": "stream",
     "text": [
      "./models/model_pant_length_labels.h5\n",
      "WARNING:tensorflow:Variable *= will be deprecated. Use variable.assign_mul if you want assignment to the variable value or 'x = x * y' if you want a new python Tensor object.\n"
     ]
    }
   ],
   "source": [
    "model_path = os.path.join(\"./models\", \"model_\" + task +\".h5\")\n",
    "print(model_path)\n",
    "model = load_model(model_path)"
   ]
  },
  {
   "cell_type": "code",
   "execution_count": 7,
   "metadata": {},
   "outputs": [],
   "source": [
    "def classify(path):\n",
    "    img = image.load_img(img_path, target_size=(299, 299))\n",
    "    x = image.img_to_array(img)\n",
    "    x = np.expand_dims(x, axis=0)\n",
    "    x = preprocess_input(x)\n",
    "    pre = model.predict(x)[0]\n",
    "    return pre"
   ]
  },
  {
   "cell_type": "code",
   "execution_count": 8,
   "metadata": {},
   "outputs": [
    {
     "name": "stdout",
     "output_type": "stream",
     "text": [
      "pant_length_labels - 0 result: 0.0000;0.0003;0.0001;0.3989;0.6005;0.0002;\n",
      "pant_length_labels - 100 result: 0.0002;0.0009;0.0000;0.0000;0.3799;0.6189;\n",
      "pant_length_labels - 200 result: 0.0002;0.0001;0.0000;0.9997;0.0000;0.0000;\n",
      "pant_length_labels - 300 result: 0.0471;0.3431;0.5725;0.0370;0.0001;0.0001;\n",
      "pant_length_labels - 400 result: 0.0006;0.0001;0.9795;0.0196;0.0001;0.0001;\n",
      "pant_length_labels - 500 result: 1.0000;0.0000;0.0000;0.0000;0.0000;0.0000;\n",
      "pant_length_labels - 600 result: 0.0000;0.0000;0.0000;1.0000;0.0000;0.0000;\n",
      "pant_length_labels - 700 result: 0.3999;0.5991;0.0006;0.0003;0.0000;0.0000;\n",
      "pant_length_labels - 800 result: 0.0004;0.0000;0.0002;0.8549;0.1445;0.0000;\n",
      "pant_length_labels - 900 result: 0.0000;0.0000;0.0000;0.0001;0.0491;0.9508;\n",
      "pant_length_labels - 1000 result: 0.0041;0.0056;0.0382;0.9511;0.0010;0.0000;\n",
      "pant_length_labels - 1100 result: 0.0001;0.9940;0.0000;0.0000;0.0000;0.0058;\n",
      "pant_length_labels - 1200 result: 0.0000;0.0000;0.0000;1.0000;0.0000;0.0000;\n",
      "pant_length_labels - 1300 result: 0.0211;0.9725;0.0000;0.0064;0.0000;0.0000;\n",
      "pant_length_labels - 1400 result: 0.0000;0.9999;0.0000;0.0000;0.0000;0.0000;\n"
     ]
    }
   ],
   "source": [
    "result = []\n",
    "\n",
    "for i, row in df_load.iterrows():\n",
    "    img_path = os.path.join(\"./data/z_rank\", row['image_id'])\n",
    "    pre_list = classify(img_path)\n",
    "    pre = ''\n",
    "    for tmp in pre_list:\n",
    "        pre += '{:.4f};'.format(tmp)\n",
    "    if(i % 100 == 0):\n",
    "        print(\"{} - {} result: {}\".format(task, i, pre))\n",
    "    result.append(pre)"
   ]
  },
  {
   "cell_type": "code",
   "execution_count": 9,
   "metadata": {},
   "outputs": [],
   "source": [
    "df_load['result'] = result\n",
    "df_load.to_csv('./result/{}.csv'.format(task), header=None, index=False)"
   ]
  },
  {
   "cell_type": "code",
   "execution_count": 10,
   "metadata": {},
   "outputs": [
    {
     "data": {
      "text/html": [
       "<div>\n",
       "<style scoped>\n",
       "    .dataframe tbody tr th:only-of-type {\n",
       "        vertical-align: middle;\n",
       "    }\n",
       "\n",
       "    .dataframe tbody tr th {\n",
       "        vertical-align: top;\n",
       "    }\n",
       "\n",
       "    .dataframe thead th {\n",
       "        text-align: right;\n",
       "    }\n",
       "</style>\n",
       "<table border=\"1\" class=\"dataframe\">\n",
       "  <thead>\n",
       "    <tr style=\"text-align: right;\">\n",
       "      <th></th>\n",
       "      <th>image_id</th>\n",
       "      <th>class</th>\n",
       "      <th>result</th>\n",
       "    </tr>\n",
       "  </thead>\n",
       "  <tbody>\n",
       "    <tr>\n",
       "      <th>0</th>\n",
       "      <td>Images/pant_length_labels/e78538758763e84e9700...</td>\n",
       "      <td>pant_length_labels</td>\n",
       "      <td>0.0000;0.0003;0.0001;0.3989;0.6005;0.0002;</td>\n",
       "    </tr>\n",
       "    <tr>\n",
       "      <th>1</th>\n",
       "      <td>Images/pant_length_labels/1e680886dd3d65882745...</td>\n",
       "      <td>pant_length_labels</td>\n",
       "      <td>0.0065;0.4303;0.4978;0.0461;0.0192;0.0002;</td>\n",
       "    </tr>\n",
       "    <tr>\n",
       "      <th>2</th>\n",
       "      <td>Images/pant_length_labels/7e25106e7a0f5ac5d26a...</td>\n",
       "      <td>pant_length_labels</td>\n",
       "      <td>0.0041;0.9959;0.0000;0.0000;0.0000;0.0000;</td>\n",
       "    </tr>\n",
       "    <tr>\n",
       "      <th>3</th>\n",
       "      <td>Images/pant_length_labels/53fa07f57908d258f4ba...</td>\n",
       "      <td>pant_length_labels</td>\n",
       "      <td>0.0000;0.0000;0.0000;0.9997;0.0002;0.0001;</td>\n",
       "    </tr>\n",
       "    <tr>\n",
       "      <th>4</th>\n",
       "      <td>Images/pant_length_labels/737319237b262a9515a5...</td>\n",
       "      <td>pant_length_labels</td>\n",
       "      <td>0.0002;0.0000;0.0000;0.0115;0.9266;0.0616;</td>\n",
       "    </tr>\n",
       "  </tbody>\n",
       "</table>\n",
       "</div>"
      ],
      "text/plain": [
       "                                            image_id               class  \\\n",
       "0  Images/pant_length_labels/e78538758763e84e9700...  pant_length_labels   \n",
       "1  Images/pant_length_labels/1e680886dd3d65882745...  pant_length_labels   \n",
       "2  Images/pant_length_labels/7e25106e7a0f5ac5d26a...  pant_length_labels   \n",
       "3  Images/pant_length_labels/53fa07f57908d258f4ba...  pant_length_labels   \n",
       "4  Images/pant_length_labels/737319237b262a9515a5...  pant_length_labels   \n",
       "\n",
       "                                       result  \n",
       "0  0.0000;0.0003;0.0001;0.3989;0.6005;0.0002;  \n",
       "1  0.0065;0.4303;0.4978;0.0461;0.0192;0.0002;  \n",
       "2  0.0041;0.9959;0.0000;0.0000;0.0000;0.0000;  \n",
       "3  0.0000;0.0000;0.0000;0.9997;0.0002;0.0001;  \n",
       "4  0.0002;0.0000;0.0000;0.0115;0.9266;0.0616;  "
      ]
     },
     "execution_count": 10,
     "metadata": {},
     "output_type": "execute_result"
    }
   ],
   "source": [
    "df_load.head()"
   ]
  },
  {
   "cell_type": "code",
   "execution_count": null,
   "metadata": {},
   "outputs": [],
   "source": []
  }
 ],
 "metadata": {
  "kernelspec": {
   "display_name": "Python 3",
   "language": "python",
   "name": "python3"
  },
  "language_info": {
   "codemirror_mode": {
    "name": "ipython",
    "version": 3
   },
   "file_extension": ".py",
   "mimetype": "text/x-python",
   "name": "python",
   "nbconvert_exporter": "python",
   "pygments_lexer": "ipython3",
   "version": "3.6.5"
  }
 },
 "nbformat": 4,
 "nbformat_minor": 2
}
